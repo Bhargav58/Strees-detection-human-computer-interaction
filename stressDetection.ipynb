{
 "cells": [
  {
   "cell_type": "markdown",
   "metadata": {},
   "source": [
    "# Stress Detection System"
   ]
  },
  {
   "cell_type": "markdown",
   "metadata": {},
   "source": [
    "## Importing Libraries"
   ]
  },
  {
   "cell_type": "code",
   "execution_count": 1,
   "metadata": {},
   "outputs": [],
   "source": [
    "import pandas as pd             # For data manipulation \n",
    "import numpy as np              # For data mathematical calculations\n",
    "import matplotlib.pyplot as plt # For graphs\n",
    "import seaborn as sns           # For graphs\n",
    "import warnings                 # For warnings\n",
    "warnings.filterwarnings(\"ignore\")           # For ignoring  warnings\n",
    "from sklearn.preprocessing import MinMaxScaler        # For data scaling\n",
    "from sklearn.feature_selection import SelectKBest     # For selecting k best features\n",
    "from sklearn.feature_selection import chi2            # For chi-square test for feature selection\n",
    "%matplotlib inline            \n",
    "from sklearn.preprocessing import LabelEncoder   # For Label Encoding\n",
    "from sklearn.neural_network import MLPClassifier    # For Neural Network\n",
    "from sklearn.ensemble import RandomForestClassifier       # For Random Forest trees\n",
    "from sklearn.metrics import accuracy_score, f1_score, precision_score, precision_recall_curve, classification_report       \n",
    "                                                      # For evaluation metrics"
   ]
  },
  {
   "cell_type": "markdown",
   "metadata": {},
   "source": [
    "## Import data"
   ]
  },
  {
   "cell_type": "markdown",
   "metadata": {},
   "source": [
    "### Data Balancing"
   ]
  },
  {
   "cell_type": "code",
   "execution_count": 9,
   "metadata": {},
   "outputs": [],
   "source": [
    "# For importing the data into environment\n",
    "application_train = pd.read_csv(\"train.csv\")\n",
    "application_test = pd.read_csv(\"test.csv\")"
   ]
  },
  {
   "cell_type": "markdown",
   "metadata": {},
   "source": [
    "## Exploratory Data Analysis"
   ]
  },
  {
   "cell_type": "code",
   "execution_count": 10,
   "metadata": {},
   "outputs": [
    {
     "data": {
      "text/html": [
       "<div>\n",
       "<style scoped>\n",
       "    .dataframe tbody tr th:only-of-type {\n",
       "        vertical-align: middle;\n",
       "    }\n",
       "\n",
       "    .dataframe tbody tr th {\n",
       "        vertical-align: top;\n",
       "    }\n",
       "\n",
       "    .dataframe thead th {\n",
       "        text-align: right;\n",
       "    }\n",
       "</style>\n",
       "<table border=\"1\" class=\"dataframe\">\n",
       "  <thead>\n",
       "    <tr style=\"text-align: right;\">\n",
       "      <th></th>\n",
       "      <th>MEAN_RR</th>\n",
       "      <th>MEDIAN_RR</th>\n",
       "      <th>SDRR</th>\n",
       "      <th>RMSSD</th>\n",
       "      <th>SDSD</th>\n",
       "      <th>SDRR_RMSSD</th>\n",
       "      <th>HR</th>\n",
       "      <th>pNN25</th>\n",
       "      <th>pNN50</th>\n",
       "      <th>SD1</th>\n",
       "      <th>...</th>\n",
       "      <th>HF</th>\n",
       "      <th>HF_PCT</th>\n",
       "      <th>HF_NU</th>\n",
       "      <th>TP</th>\n",
       "      <th>LF_HF</th>\n",
       "      <th>HF_LF</th>\n",
       "      <th>sampen</th>\n",
       "      <th>higuci</th>\n",
       "      <th>datasetId</th>\n",
       "      <th>condition</th>\n",
       "    </tr>\n",
       "  </thead>\n",
       "  <tbody>\n",
       "    <tr>\n",
       "      <th>0</th>\n",
       "      <td>885.157845</td>\n",
       "      <td>853.763730</td>\n",
       "      <td>140.972741</td>\n",
       "      <td>15.554505</td>\n",
       "      <td>15.553371</td>\n",
       "      <td>9.063146</td>\n",
       "      <td>69.499952</td>\n",
       "      <td>11.133333</td>\n",
       "      <td>0.533333</td>\n",
       "      <td>11.001565</td>\n",
       "      <td>...</td>\n",
       "      <td>15.522603</td>\n",
       "      <td>0.421047</td>\n",
       "      <td>1.514737</td>\n",
       "      <td>3686.666157</td>\n",
       "      <td>65.018055</td>\n",
       "      <td>0.015380</td>\n",
       "      <td>2.139754</td>\n",
       "      <td>1.163485</td>\n",
       "      <td>2</td>\n",
       "      <td>no stress</td>\n",
       "    </tr>\n",
       "    <tr>\n",
       "      <th>1</th>\n",
       "      <td>939.425371</td>\n",
       "      <td>948.357865</td>\n",
       "      <td>81.317742</td>\n",
       "      <td>12.964439</td>\n",
       "      <td>12.964195</td>\n",
       "      <td>6.272369</td>\n",
       "      <td>64.363150</td>\n",
       "      <td>5.600000</td>\n",
       "      <td>0.000000</td>\n",
       "      <td>9.170129</td>\n",
       "      <td>...</td>\n",
       "      <td>2.108525</td>\n",
       "      <td>0.070133</td>\n",
       "      <td>0.304603</td>\n",
       "      <td>3006.487251</td>\n",
       "      <td>327.296635</td>\n",
       "      <td>0.003055</td>\n",
       "      <td>2.174499</td>\n",
       "      <td>1.084711</td>\n",
       "      <td>2</td>\n",
       "      <td>interruption</td>\n",
       "    </tr>\n",
       "    <tr>\n",
       "      <th>2</th>\n",
       "      <td>898.186047</td>\n",
       "      <td>907.006860</td>\n",
       "      <td>84.497236</td>\n",
       "      <td>16.305279</td>\n",
       "      <td>16.305274</td>\n",
       "      <td>5.182201</td>\n",
       "      <td>67.450066</td>\n",
       "      <td>13.066667</td>\n",
       "      <td>0.200000</td>\n",
       "      <td>11.533417</td>\n",
       "      <td>...</td>\n",
       "      <td>13.769729</td>\n",
       "      <td>0.512671</td>\n",
       "      <td>1.049528</td>\n",
       "      <td>2685.879461</td>\n",
       "      <td>94.280910</td>\n",
       "      <td>0.010607</td>\n",
       "      <td>2.135350</td>\n",
       "      <td>1.176315</td>\n",
       "      <td>2</td>\n",
       "      <td>interruption</td>\n",
       "    </tr>\n",
       "    <tr>\n",
       "      <th>3</th>\n",
       "      <td>881.757865</td>\n",
       "      <td>893.460030</td>\n",
       "      <td>90.370537</td>\n",
       "      <td>15.720468</td>\n",
       "      <td>15.720068</td>\n",
       "      <td>5.748591</td>\n",
       "      <td>68.809562</td>\n",
       "      <td>11.800000</td>\n",
       "      <td>0.133333</td>\n",
       "      <td>11.119476</td>\n",
       "      <td>...</td>\n",
       "      <td>18.181913</td>\n",
       "      <td>0.529387</td>\n",
       "      <td>1.775294</td>\n",
       "      <td>3434.520980</td>\n",
       "      <td>55.328701</td>\n",
       "      <td>0.018074</td>\n",
       "      <td>2.178341</td>\n",
       "      <td>1.179688</td>\n",
       "      <td>2</td>\n",
       "      <td>no stress</td>\n",
       "    </tr>\n",
       "    <tr>\n",
       "      <th>4</th>\n",
       "      <td>809.625331</td>\n",
       "      <td>811.184865</td>\n",
       "      <td>62.766242</td>\n",
       "      <td>19.213819</td>\n",
       "      <td>19.213657</td>\n",
       "      <td>3.266724</td>\n",
       "      <td>74.565728</td>\n",
       "      <td>20.200000</td>\n",
       "      <td>0.200000</td>\n",
       "      <td>13.590641</td>\n",
       "      <td>...</td>\n",
       "      <td>48.215822</td>\n",
       "      <td>1.839473</td>\n",
       "      <td>3.279993</td>\n",
       "      <td>2621.175204</td>\n",
       "      <td>29.487873</td>\n",
       "      <td>0.033912</td>\n",
       "      <td>2.221121</td>\n",
       "      <td>1.249612</td>\n",
       "      <td>2</td>\n",
       "      <td>no stress</td>\n",
       "    </tr>\n",
       "    <tr>\n",
       "      <th>5</th>\n",
       "      <td>923.283866</td>\n",
       "      <td>617.794160</td>\n",
       "      <td>517.536544</td>\n",
       "      <td>9.965976</td>\n",
       "      <td>9.933933</td>\n",
       "      <td>51.930344</td>\n",
       "      <td>81.342254</td>\n",
       "      <td>1.200000</td>\n",
       "      <td>0.600000</td>\n",
       "      <td>7.026695</td>\n",
       "      <td>...</td>\n",
       "      <td>11.027460</td>\n",
       "      <td>0.318490</td>\n",
       "      <td>6.799829</td>\n",
       "      <td>3462.418453</td>\n",
       "      <td>13.706252</td>\n",
       "      <td>0.072959</td>\n",
       "      <td>0.582616</td>\n",
       "      <td>1.128483</td>\n",
       "      <td>2</td>\n",
       "      <td>no stress</td>\n",
       "    </tr>\n",
       "    <tr>\n",
       "      <th>6</th>\n",
       "      <td>973.252908</td>\n",
       "      <td>964.650020</td>\n",
       "      <td>82.405179</td>\n",
       "      <td>10.644196</td>\n",
       "      <td>10.643638</td>\n",
       "      <td>7.741794</td>\n",
       "      <td>62.095066</td>\n",
       "      <td>2.000000</td>\n",
       "      <td>0.000000</td>\n",
       "      <td>7.528700</td>\n",
       "      <td>...</td>\n",
       "      <td>1.489796</td>\n",
       "      <td>0.119828</td>\n",
       "      <td>0.307425</td>\n",
       "      <td>1243.278879</td>\n",
       "      <td>324.282351</td>\n",
       "      <td>0.003084</td>\n",
       "      <td>2.161461</td>\n",
       "      <td>1.158004</td>\n",
       "      <td>2</td>\n",
       "      <td>no stress</td>\n",
       "    </tr>\n",
       "    <tr>\n",
       "      <th>7</th>\n",
       "      <td>715.914682</td>\n",
       "      <td>679.499395</td>\n",
       "      <td>131.477151</td>\n",
       "      <td>9.477727</td>\n",
       "      <td>9.477717</td>\n",
       "      <td>13.872224</td>\n",
       "      <td>85.857703</td>\n",
       "      <td>2.533333</td>\n",
       "      <td>0.200000</td>\n",
       "      <td>6.703994</td>\n",
       "      <td>...</td>\n",
       "      <td>28.913453</td>\n",
       "      <td>1.501528</td>\n",
       "      <td>6.194082</td>\n",
       "      <td>1925.601664</td>\n",
       "      <td>15.144441</td>\n",
       "      <td>0.066031</td>\n",
       "      <td>1.110739</td>\n",
       "      <td>1.146555</td>\n",
       "      <td>2</td>\n",
       "      <td>no stress</td>\n",
       "    </tr>\n",
       "    <tr>\n",
       "      <th>8</th>\n",
       "      <td>814.257021</td>\n",
       "      <td>827.522830</td>\n",
       "      <td>87.014459</td>\n",
       "      <td>14.632232</td>\n",
       "      <td>14.631275</td>\n",
       "      <td>5.946766</td>\n",
       "      <td>74.588857</td>\n",
       "      <td>7.733333</td>\n",
       "      <td>0.800000</td>\n",
       "      <td>10.349326</td>\n",
       "      <td>...</td>\n",
       "      <td>20.757787</td>\n",
       "      <td>0.659188</td>\n",
       "      <td>2.026982</td>\n",
       "      <td>3148.992003</td>\n",
       "      <td>48.334430</td>\n",
       "      <td>0.020689</td>\n",
       "      <td>2.174233</td>\n",
       "      <td>1.122471</td>\n",
       "      <td>2</td>\n",
       "      <td>interruption</td>\n",
       "    </tr>\n",
       "    <tr>\n",
       "      <th>9</th>\n",
       "      <td>959.694591</td>\n",
       "      <td>957.895600</td>\n",
       "      <td>54.904529</td>\n",
       "      <td>12.015400</td>\n",
       "      <td>12.015343</td>\n",
       "      <td>4.569513</td>\n",
       "      <td>62.726998</td>\n",
       "      <td>3.266667</td>\n",
       "      <td>0.200000</td>\n",
       "      <td>8.498966</td>\n",
       "      <td>...</td>\n",
       "      <td>2.572459</td>\n",
       "      <td>0.150800</td>\n",
       "      <td>0.490102</td>\n",
       "      <td>1705.869787</td>\n",
       "      <td>203.039304</td>\n",
       "      <td>0.004925</td>\n",
       "      <td>2.171600</td>\n",
       "      <td>1.176054</td>\n",
       "      <td>2</td>\n",
       "      <td>no stress</td>\n",
       "    </tr>\n",
       "  </tbody>\n",
       "</table>\n",
       "<p>10 rows × 36 columns</p>\n",
       "</div>"
      ],
      "text/plain": [
       "      MEAN_RR   MEDIAN_RR        SDRR      RMSSD       SDSD  SDRR_RMSSD  \\\n",
       "0  885.157845  853.763730  140.972741  15.554505  15.553371    9.063146   \n",
       "1  939.425371  948.357865   81.317742  12.964439  12.964195    6.272369   \n",
       "2  898.186047  907.006860   84.497236  16.305279  16.305274    5.182201   \n",
       "3  881.757865  893.460030   90.370537  15.720468  15.720068    5.748591   \n",
       "4  809.625331  811.184865   62.766242  19.213819  19.213657    3.266724   \n",
       "5  923.283866  617.794160  517.536544   9.965976   9.933933   51.930344   \n",
       "6  973.252908  964.650020   82.405179  10.644196  10.643638    7.741794   \n",
       "7  715.914682  679.499395  131.477151   9.477727   9.477717   13.872224   \n",
       "8  814.257021  827.522830   87.014459  14.632232  14.631275    5.946766   \n",
       "9  959.694591  957.895600   54.904529  12.015400  12.015343    4.569513   \n",
       "\n",
       "          HR      pNN25     pNN50        SD1  ...         HF    HF_PCT  \\\n",
       "0  69.499952  11.133333  0.533333  11.001565  ...  15.522603  0.421047   \n",
       "1  64.363150   5.600000  0.000000   9.170129  ...   2.108525  0.070133   \n",
       "2  67.450066  13.066667  0.200000  11.533417  ...  13.769729  0.512671   \n",
       "3  68.809562  11.800000  0.133333  11.119476  ...  18.181913  0.529387   \n",
       "4  74.565728  20.200000  0.200000  13.590641  ...  48.215822  1.839473   \n",
       "5  81.342254   1.200000  0.600000   7.026695  ...  11.027460  0.318490   \n",
       "6  62.095066   2.000000  0.000000   7.528700  ...   1.489796  0.119828   \n",
       "7  85.857703   2.533333  0.200000   6.703994  ...  28.913453  1.501528   \n",
       "8  74.588857   7.733333  0.800000  10.349326  ...  20.757787  0.659188   \n",
       "9  62.726998   3.266667  0.200000   8.498966  ...   2.572459  0.150800   \n",
       "\n",
       "      HF_NU           TP       LF_HF     HF_LF    sampen    higuci  datasetId  \\\n",
       "0  1.514737  3686.666157   65.018055  0.015380  2.139754  1.163485          2   \n",
       "1  0.304603  3006.487251  327.296635  0.003055  2.174499  1.084711          2   \n",
       "2  1.049528  2685.879461   94.280910  0.010607  2.135350  1.176315          2   \n",
       "3  1.775294  3434.520980   55.328701  0.018074  2.178341  1.179688          2   \n",
       "4  3.279993  2621.175204   29.487873  0.033912  2.221121  1.249612          2   \n",
       "5  6.799829  3462.418453   13.706252  0.072959  0.582616  1.128483          2   \n",
       "6  0.307425  1243.278879  324.282351  0.003084  2.161461  1.158004          2   \n",
       "7  6.194082  1925.601664   15.144441  0.066031  1.110739  1.146555          2   \n",
       "8  2.026982  3148.992003   48.334430  0.020689  2.174233  1.122471          2   \n",
       "9  0.490102  1705.869787  203.039304  0.004925  2.171600  1.176054          2   \n",
       "\n",
       "      condition  \n",
       "0     no stress  \n",
       "1  interruption  \n",
       "2  interruption  \n",
       "3     no stress  \n",
       "4     no stress  \n",
       "5     no stress  \n",
       "6     no stress  \n",
       "7     no stress  \n",
       "8  interruption  \n",
       "9     no stress  \n",
       "\n",
       "[10 rows x 36 columns]"
      ]
     },
     "execution_count": 10,
     "metadata": {},
     "output_type": "execute_result"
    }
   ],
   "source": [
    "# To show top 10 rows of train data\n",
    "application_train.head(10)"
   ]
  },
  {
   "cell_type": "code",
   "execution_count": 11,
   "metadata": {},
   "outputs": [
    {
     "data": {
      "text/html": [
       "<div>\n",
       "<style scoped>\n",
       "    .dataframe tbody tr th:only-of-type {\n",
       "        vertical-align: middle;\n",
       "    }\n",
       "\n",
       "    .dataframe tbody tr th {\n",
       "        vertical-align: top;\n",
       "    }\n",
       "\n",
       "    .dataframe thead th {\n",
       "        text-align: right;\n",
       "    }\n",
       "</style>\n",
       "<table border=\"1\" class=\"dataframe\">\n",
       "  <thead>\n",
       "    <tr style=\"text-align: right;\">\n",
       "      <th></th>\n",
       "      <th>MEAN_RR</th>\n",
       "      <th>MEDIAN_RR</th>\n",
       "      <th>SDRR</th>\n",
       "      <th>RMSSD</th>\n",
       "      <th>SDSD</th>\n",
       "      <th>SDRR_RMSSD</th>\n",
       "      <th>HR</th>\n",
       "      <th>pNN25</th>\n",
       "      <th>pNN50</th>\n",
       "      <th>SD1</th>\n",
       "      <th>...</th>\n",
       "      <th>HF</th>\n",
       "      <th>HF_PCT</th>\n",
       "      <th>HF_NU</th>\n",
       "      <th>TP</th>\n",
       "      <th>LF_HF</th>\n",
       "      <th>HF_LF</th>\n",
       "      <th>sampen</th>\n",
       "      <th>higuci</th>\n",
       "      <th>datasetId</th>\n",
       "      <th>condition</th>\n",
       "    </tr>\n",
       "  </thead>\n",
       "  <tbody>\n",
       "    <tr>\n",
       "      <th>0</th>\n",
       "      <td>721.901897</td>\n",
       "      <td>727.267280</td>\n",
       "      <td>74.722315</td>\n",
       "      <td>12.361264</td>\n",
       "      <td>12.361069</td>\n",
       "      <td>6.044877</td>\n",
       "      <td>84.121868</td>\n",
       "      <td>4.933333</td>\n",
       "      <td>0.000000</td>\n",
       "      <td>8.743513</td>\n",
       "      <td>...</td>\n",
       "      <td>66.617057</td>\n",
       "      <td>3.921868</td>\n",
       "      <td>9.760289</td>\n",
       "      <td>1698.605390</td>\n",
       "      <td>9.245599</td>\n",
       "      <td>0.108160</td>\n",
       "      <td>2.097342</td>\n",
       "      <td>1.243696</td>\n",
       "      <td>2</td>\n",
       "      <td>no stress</td>\n",
       "    </tr>\n",
       "    <tr>\n",
       "      <th>1</th>\n",
       "      <td>843.538633</td>\n",
       "      <td>844.407930</td>\n",
       "      <td>58.499429</td>\n",
       "      <td>19.298880</td>\n",
       "      <td>19.298795</td>\n",
       "      <td>3.031234</td>\n",
       "      <td>71.478642</td>\n",
       "      <td>21.000000</td>\n",
       "      <td>0.200000</td>\n",
       "      <td>13.650863</td>\n",
       "      <td>...</td>\n",
       "      <td>26.500086</td>\n",
       "      <td>1.123416</td>\n",
       "      <td>1.663151</td>\n",
       "      <td>2358.884694</td>\n",
       "      <td>59.126832</td>\n",
       "      <td>0.016913</td>\n",
       "      <td>2.217275</td>\n",
       "      <td>1.250056</td>\n",
       "      <td>2</td>\n",
       "      <td>time pressure</td>\n",
       "    </tr>\n",
       "    <tr>\n",
       "      <th>2</th>\n",
       "      <td>958.523868</td>\n",
       "      <td>966.671125</td>\n",
       "      <td>132.849110</td>\n",
       "      <td>21.342715</td>\n",
       "      <td>21.342653</td>\n",
       "      <td>6.224565</td>\n",
       "      <td>63.874293</td>\n",
       "      <td>24.133333</td>\n",
       "      <td>1.800000</td>\n",
       "      <td>15.096571</td>\n",
       "      <td>...</td>\n",
       "      <td>16.024935</td>\n",
       "      <td>0.370208</td>\n",
       "      <td>0.766416</td>\n",
       "      <td>4328.633724</td>\n",
       "      <td>129.477524</td>\n",
       "      <td>0.007723</td>\n",
       "      <td>2.217136</td>\n",
       "      <td>1.144943</td>\n",
       "      <td>2</td>\n",
       "      <td>no stress</td>\n",
       "    </tr>\n",
       "    <tr>\n",
       "      <th>3</th>\n",
       "      <td>824.838669</td>\n",
       "      <td>842.485905</td>\n",
       "      <td>117.822094</td>\n",
       "      <td>11.771814</td>\n",
       "      <td>11.771248</td>\n",
       "      <td>10.008830</td>\n",
       "      <td>74.330531</td>\n",
       "      <td>4.733333</td>\n",
       "      <td>0.533333</td>\n",
       "      <td>8.326307</td>\n",
       "      <td>...</td>\n",
       "      <td>17.581470</td>\n",
       "      <td>0.615932</td>\n",
       "      <td>3.358652</td>\n",
       "      <td>2854.449091</td>\n",
       "      <td>28.773854</td>\n",
       "      <td>0.034754</td>\n",
       "      <td>2.106863</td>\n",
       "      <td>1.142355</td>\n",
       "      <td>2</td>\n",
       "      <td>no stress</td>\n",
       "    </tr>\n",
       "    <tr>\n",
       "      <th>4</th>\n",
       "      <td>756.707933</td>\n",
       "      <td>747.941620</td>\n",
       "      <td>143.968457</td>\n",
       "      <td>13.357748</td>\n",
       "      <td>13.356388</td>\n",
       "      <td>10.777899</td>\n",
       "      <td>82.092049</td>\n",
       "      <td>5.933333</td>\n",
       "      <td>0.666667</td>\n",
       "      <td>9.447545</td>\n",
       "      <td>...</td>\n",
       "      <td>35.199054</td>\n",
       "      <td>0.662879</td>\n",
       "      <td>6.292253</td>\n",
       "      <td>5310.027472</td>\n",
       "      <td>14.892559</td>\n",
       "      <td>0.067148</td>\n",
       "      <td>1.912191</td>\n",
       "      <td>1.128098</td>\n",
       "      <td>2</td>\n",
       "      <td>interruption</td>\n",
       "    </tr>\n",
       "    <tr>\n",
       "      <th>5</th>\n",
       "      <td>831.632295</td>\n",
       "      <td>836.596795</td>\n",
       "      <td>62.069042</td>\n",
       "      <td>12.576667</td>\n",
       "      <td>12.576557</td>\n",
       "      <td>4.935254</td>\n",
       "      <td>72.562697</td>\n",
       "      <td>4.533333</td>\n",
       "      <td>0.266667</td>\n",
       "      <td>8.895937</td>\n",
       "      <td>...</td>\n",
       "      <td>27.517012</td>\n",
       "      <td>1.280470</td>\n",
       "      <td>4.480715</td>\n",
       "      <td>2148.978043</td>\n",
       "      <td>21.317867</td>\n",
       "      <td>0.046909</td>\n",
       "      <td>2.177956</td>\n",
       "      <td>1.202543</td>\n",
       "      <td>2</td>\n",
       "      <td>time pressure</td>\n",
       "    </tr>\n",
       "    <tr>\n",
       "      <th>6</th>\n",
       "      <td>832.894819</td>\n",
       "      <td>834.290000</td>\n",
       "      <td>84.999202</td>\n",
       "      <td>14.147805</td>\n",
       "      <td>14.147257</td>\n",
       "      <td>6.007943</td>\n",
       "      <td>72.816960</td>\n",
       "      <td>7.400000</td>\n",
       "      <td>0.000000</td>\n",
       "      <td>10.006960</td>\n",
       "      <td>...</td>\n",
       "      <td>14.771837</td>\n",
       "      <td>0.594187</td>\n",
       "      <td>1.536975</td>\n",
       "      <td>2486.058114</td>\n",
       "      <td>64.062874</td>\n",
       "      <td>0.015610</td>\n",
       "      <td>2.186655</td>\n",
       "      <td>1.183980</td>\n",
       "      <td>2</td>\n",
       "      <td>interruption</td>\n",
       "    </tr>\n",
       "    <tr>\n",
       "      <th>7</th>\n",
       "      <td>719.439761</td>\n",
       "      <td>717.521215</td>\n",
       "      <td>57.971358</td>\n",
       "      <td>9.350848</td>\n",
       "      <td>9.350507</td>\n",
       "      <td>6.199583</td>\n",
       "      <td>83.951285</td>\n",
       "      <td>1.666667</td>\n",
       "      <td>0.133333</td>\n",
       "      <td>6.614013</td>\n",
       "      <td>...</td>\n",
       "      <td>34.518960</td>\n",
       "      <td>2.195016</td>\n",
       "      <td>8.979104</td>\n",
       "      <td>1572.606599</td>\n",
       "      <td>10.136969</td>\n",
       "      <td>0.098649</td>\n",
       "      <td>2.195558</td>\n",
       "      <td>1.192361</td>\n",
       "      <td>2</td>\n",
       "      <td>no stress</td>\n",
       "    </tr>\n",
       "    <tr>\n",
       "      <th>8</th>\n",
       "      <td>997.711161</td>\n",
       "      <td>998.858135</td>\n",
       "      <td>80.215509</td>\n",
       "      <td>22.116768</td>\n",
       "      <td>22.116729</td>\n",
       "      <td>3.626909</td>\n",
       "      <td>60.537570</td>\n",
       "      <td>26.866667</td>\n",
       "      <td>1.933333</td>\n",
       "      <td>15.644108</td>\n",
       "      <td>...</td>\n",
       "      <td>8.956415</td>\n",
       "      <td>0.245826</td>\n",
       "      <td>0.519306</td>\n",
       "      <td>3643.391597</td>\n",
       "      <td>191.564789</td>\n",
       "      <td>0.005220</td>\n",
       "      <td>2.197198</td>\n",
       "      <td>1.224772</td>\n",
       "      <td>2</td>\n",
       "      <td>interruption</td>\n",
       "    </tr>\n",
       "    <tr>\n",
       "      <th>9</th>\n",
       "      <td>751.381602</td>\n",
       "      <td>760.687035</td>\n",
       "      <td>88.536256</td>\n",
       "      <td>13.999524</td>\n",
       "      <td>13.998405</td>\n",
       "      <td>6.324233</td>\n",
       "      <td>81.125490</td>\n",
       "      <td>6.733333</td>\n",
       "      <td>0.600000</td>\n",
       "      <td>9.901671</td>\n",
       "      <td>...</td>\n",
       "      <td>32.101300</td>\n",
       "      <td>0.996415</td>\n",
       "      <td>3.079247</td>\n",
       "      <td>3221.680332</td>\n",
       "      <td>31.475473</td>\n",
       "      <td>0.031771</td>\n",
       "      <td>2.071096</td>\n",
       "      <td>1.139724</td>\n",
       "      <td>2</td>\n",
       "      <td>no stress</td>\n",
       "    </tr>\n",
       "  </tbody>\n",
       "</table>\n",
       "<p>10 rows × 36 columns</p>\n",
       "</div>"
      ],
      "text/plain": [
       "      MEAN_RR   MEDIAN_RR        SDRR      RMSSD       SDSD  SDRR_RMSSD  \\\n",
       "0  721.901897  727.267280   74.722315  12.361264  12.361069    6.044877   \n",
       "1  843.538633  844.407930   58.499429  19.298880  19.298795    3.031234   \n",
       "2  958.523868  966.671125  132.849110  21.342715  21.342653    6.224565   \n",
       "3  824.838669  842.485905  117.822094  11.771814  11.771248   10.008830   \n",
       "4  756.707933  747.941620  143.968457  13.357748  13.356388   10.777899   \n",
       "5  831.632295  836.596795   62.069042  12.576667  12.576557    4.935254   \n",
       "6  832.894819  834.290000   84.999202  14.147805  14.147257    6.007943   \n",
       "7  719.439761  717.521215   57.971358   9.350848   9.350507    6.199583   \n",
       "8  997.711161  998.858135   80.215509  22.116768  22.116729    3.626909   \n",
       "9  751.381602  760.687035   88.536256  13.999524  13.998405    6.324233   \n",
       "\n",
       "          HR      pNN25     pNN50        SD1  ...         HF    HF_PCT  \\\n",
       "0  84.121868   4.933333  0.000000   8.743513  ...  66.617057  3.921868   \n",
       "1  71.478642  21.000000  0.200000  13.650863  ...  26.500086  1.123416   \n",
       "2  63.874293  24.133333  1.800000  15.096571  ...  16.024935  0.370208   \n",
       "3  74.330531   4.733333  0.533333   8.326307  ...  17.581470  0.615932   \n",
       "4  82.092049   5.933333  0.666667   9.447545  ...  35.199054  0.662879   \n",
       "5  72.562697   4.533333  0.266667   8.895937  ...  27.517012  1.280470   \n",
       "6  72.816960   7.400000  0.000000  10.006960  ...  14.771837  0.594187   \n",
       "7  83.951285   1.666667  0.133333   6.614013  ...  34.518960  2.195016   \n",
       "8  60.537570  26.866667  1.933333  15.644108  ...   8.956415  0.245826   \n",
       "9  81.125490   6.733333  0.600000   9.901671  ...  32.101300  0.996415   \n",
       "\n",
       "      HF_NU           TP       LF_HF     HF_LF    sampen    higuci  datasetId  \\\n",
       "0  9.760289  1698.605390    9.245599  0.108160  2.097342  1.243696          2   \n",
       "1  1.663151  2358.884694   59.126832  0.016913  2.217275  1.250056          2   \n",
       "2  0.766416  4328.633724  129.477524  0.007723  2.217136  1.144943          2   \n",
       "3  3.358652  2854.449091   28.773854  0.034754  2.106863  1.142355          2   \n",
       "4  6.292253  5310.027472   14.892559  0.067148  1.912191  1.128098          2   \n",
       "5  4.480715  2148.978043   21.317867  0.046909  2.177956  1.202543          2   \n",
       "6  1.536975  2486.058114   64.062874  0.015610  2.186655  1.183980          2   \n",
       "7  8.979104  1572.606599   10.136969  0.098649  2.195558  1.192361          2   \n",
       "8  0.519306  3643.391597  191.564789  0.005220  2.197198  1.224772          2   \n",
       "9  3.079247  3221.680332   31.475473  0.031771  2.071096  1.139724          2   \n",
       "\n",
       "       condition  \n",
       "0      no stress  \n",
       "1  time pressure  \n",
       "2      no stress  \n",
       "3      no stress  \n",
       "4   interruption  \n",
       "5  time pressure  \n",
       "6   interruption  \n",
       "7      no stress  \n",
       "8   interruption  \n",
       "9      no stress  \n",
       "\n",
       "[10 rows x 36 columns]"
      ]
     },
     "execution_count": 11,
     "metadata": {},
     "output_type": "execute_result"
    }
   ],
   "source": [
    "# To show top 10 rows of test data\n",
    "application_test.head(10)"
   ]
  },
  {
   "cell_type": "code",
   "execution_count": 12,
   "metadata": {},
   "outputs": [
    {
     "name": "stdout",
     "output_type": "stream",
     "text": [
      "<class 'pandas.core.frame.DataFrame'>\n",
      "RangeIndex: 369289 entries, 0 to 369288\n",
      "Data columns (total 36 columns):\n",
      " #   Column             Non-Null Count   Dtype  \n",
      "---  ------             --------------   -----  \n",
      " 0   MEAN_RR            369289 non-null  float64\n",
      " 1   MEDIAN_RR          369289 non-null  float64\n",
      " 2   SDRR               369289 non-null  float64\n",
      " 3   RMSSD              369289 non-null  float64\n",
      " 4   SDSD               369289 non-null  float64\n",
      " 5   SDRR_RMSSD         369289 non-null  float64\n",
      " 6   HR                 369289 non-null  float64\n",
      " 7   pNN25              369289 non-null  float64\n",
      " 8   pNN50              369289 non-null  float64\n",
      " 9   SD1                369289 non-null  float64\n",
      " 10  SD2                369289 non-null  float64\n",
      " 11  KURT               369289 non-null  float64\n",
      " 12  SKEW               369289 non-null  float64\n",
      " 13  MEAN_REL_RR        369289 non-null  float64\n",
      " 14  MEDIAN_REL_RR      369289 non-null  float64\n",
      " 15  SDRR_REL_RR        369289 non-null  float64\n",
      " 16  RMSSD_REL_RR       369289 non-null  float64\n",
      " 17  SDSD_REL_RR        369289 non-null  float64\n",
      " 18  SDRR_RMSSD_REL_RR  369289 non-null  float64\n",
      " 19  KURT_REL_RR        369289 non-null  float64\n",
      " 20  SKEW_REL_RR        369289 non-null  float64\n",
      " 21  VLF                369289 non-null  float64\n",
      " 22  VLF_PCT            369289 non-null  float64\n",
      " 23  LF                 369289 non-null  float64\n",
      " 24  LF_PCT             369289 non-null  float64\n",
      " 25  LF_NU              369289 non-null  float64\n",
      " 26  HF                 369289 non-null  float64\n",
      " 27  HF_PCT             369289 non-null  float64\n",
      " 28  HF_NU              369289 non-null  float64\n",
      " 29  TP                 369289 non-null  float64\n",
      " 30  LF_HF              369289 non-null  float64\n",
      " 31  HF_LF              369289 non-null  float64\n",
      " 32  sampen             369289 non-null  float64\n",
      " 33  higuci             369289 non-null  float64\n",
      " 34  datasetId          369289 non-null  int64  \n",
      " 35  condition          369289 non-null  object \n",
      "dtypes: float64(34), int64(1), object(1)\n",
      "memory usage: 101.4+ MB\n"
     ]
    }
   ],
   "source": [
    "# To know datastructure\n",
    "application_train.info()"
   ]
  },
  {
   "cell_type": "code",
   "execution_count": 13,
   "metadata": {},
   "outputs": [
    {
     "name": "stdout",
     "output_type": "stream",
     "text": [
      "<class 'pandas.core.frame.DataFrame'>\n",
      "RangeIndex: 41033 entries, 0 to 41032\n",
      "Data columns (total 36 columns):\n",
      " #   Column             Non-Null Count  Dtype  \n",
      "---  ------             --------------  -----  \n",
      " 0   MEAN_RR            41033 non-null  float64\n",
      " 1   MEDIAN_RR          41033 non-null  float64\n",
      " 2   SDRR               41033 non-null  float64\n",
      " 3   RMSSD              41033 non-null  float64\n",
      " 4   SDSD               41033 non-null  float64\n",
      " 5   SDRR_RMSSD         41033 non-null  float64\n",
      " 6   HR                 41033 non-null  float64\n",
      " 7   pNN25              41033 non-null  float64\n",
      " 8   pNN50              41033 non-null  float64\n",
      " 9   SD1                41033 non-null  float64\n",
      " 10  SD2                41033 non-null  float64\n",
      " 11  KURT               41033 non-null  float64\n",
      " 12  SKEW               41033 non-null  float64\n",
      " 13  MEAN_REL_RR        41033 non-null  float64\n",
      " 14  MEDIAN_REL_RR      41033 non-null  float64\n",
      " 15  SDRR_REL_RR        41033 non-null  float64\n",
      " 16  RMSSD_REL_RR       41033 non-null  float64\n",
      " 17  SDSD_REL_RR        41033 non-null  float64\n",
      " 18  SDRR_RMSSD_REL_RR  41033 non-null  float64\n",
      " 19  KURT_REL_RR        41033 non-null  float64\n",
      " 20  SKEW_REL_RR        41033 non-null  float64\n",
      " 21  VLF                41033 non-null  float64\n",
      " 22  VLF_PCT            41033 non-null  float64\n",
      " 23  LF                 41033 non-null  float64\n",
      " 24  LF_PCT             41033 non-null  float64\n",
      " 25  LF_NU              41033 non-null  float64\n",
      " 26  HF                 41033 non-null  float64\n",
      " 27  HF_PCT             41033 non-null  float64\n",
      " 28  HF_NU              41033 non-null  float64\n",
      " 29  TP                 41033 non-null  float64\n",
      " 30  LF_HF              41033 non-null  float64\n",
      " 31  HF_LF              41033 non-null  float64\n",
      " 32  sampen             41033 non-null  float64\n",
      " 33  higuci             41033 non-null  float64\n",
      " 34  datasetId          41033 non-null  int64  \n",
      " 35  condition          41033 non-null  object \n",
      "dtypes: float64(34), int64(1), object(1)\n",
      "memory usage: 11.3+ MB\n"
     ]
    }
   ],
   "source": [
    "# To know datastructure\n",
    "application_test.info()"
   ]
  },
  {
   "cell_type": "markdown",
   "metadata": {},
   "source": [
    "### Missing data"
   ]
  },
  {
   "cell_type": "code",
   "execution_count": 14,
   "metadata": {},
   "outputs": [
    {
     "data": {
      "text/plain": [
       "MEAN_RR              0\n",
       "MEDIAN_RR            0\n",
       "SDRR                 0\n",
       "RMSSD                0\n",
       "SDSD                 0\n",
       "SDRR_RMSSD           0\n",
       "HR                   0\n",
       "pNN25                0\n",
       "pNN50                0\n",
       "SD1                  0\n",
       "SD2                  0\n",
       "KURT                 0\n",
       "SKEW                 0\n",
       "MEAN_REL_RR          0\n",
       "MEDIAN_REL_RR        0\n",
       "SDRR_REL_RR          0\n",
       "RMSSD_REL_RR         0\n",
       "SDSD_REL_RR          0\n",
       "SDRR_RMSSD_REL_RR    0\n",
       "KURT_REL_RR          0\n",
       "SKEW_REL_RR          0\n",
       "VLF                  0\n",
       "VLF_PCT              0\n",
       "LF                   0\n",
       "LF_PCT               0\n",
       "LF_NU                0\n",
       "HF                   0\n",
       "HF_PCT               0\n",
       "HF_NU                0\n",
       "TP                   0\n",
       "LF_HF                0\n",
       "HF_LF                0\n",
       "sampen               0\n",
       "higuci               0\n",
       "datasetId            0\n",
       "condition            0\n",
       "dtype: int64"
      ]
     },
     "execution_count": 14,
     "metadata": {},
     "output_type": "execute_result"
    }
   ],
   "source": [
    "application_train.isnull().sum()"
   ]
  },
  {
   "cell_type": "code",
   "execution_count": 15,
   "metadata": {},
   "outputs": [
    {
     "data": {
      "text/plain": [
       "MEAN_RR              0\n",
       "MEDIAN_RR            0\n",
       "SDRR                 0\n",
       "RMSSD                0\n",
       "SDSD                 0\n",
       "SDRR_RMSSD           0\n",
       "HR                   0\n",
       "pNN25                0\n",
       "pNN50                0\n",
       "SD1                  0\n",
       "SD2                  0\n",
       "KURT                 0\n",
       "SKEW                 0\n",
       "MEAN_REL_RR          0\n",
       "MEDIAN_REL_RR        0\n",
       "SDRR_REL_RR          0\n",
       "RMSSD_REL_RR         0\n",
       "SDSD_REL_RR          0\n",
       "SDRR_RMSSD_REL_RR    0\n",
       "KURT_REL_RR          0\n",
       "SKEW_REL_RR          0\n",
       "VLF                  0\n",
       "VLF_PCT              0\n",
       "LF                   0\n",
       "LF_PCT               0\n",
       "LF_NU                0\n",
       "HF                   0\n",
       "HF_PCT               0\n",
       "HF_NU                0\n",
       "TP                   0\n",
       "LF_HF                0\n",
       "HF_LF                0\n",
       "sampen               0\n",
       "higuci               0\n",
       "datasetId            0\n",
       "condition            0\n",
       "dtype: int64"
      ]
     },
     "execution_count": 15,
     "metadata": {},
     "output_type": "execute_result"
    }
   ],
   "source": [
    "application_test.isnull().sum()"
   ]
  },
  {
   "cell_type": "code",
   "execution_count": 16,
   "metadata": {},
   "outputs": [
    {
     "name": "stdout",
     "output_type": "stream",
     "text": [
      "no stress        200082\n",
      "interruption     105150\n",
      "time pressure     64057\n",
      "Name: condition, dtype: int64\n"
     ]
    },
    {
     "data": {
      "image/png": "[encoded data removed]",
      "text/plain": [
       "<Figure size 432x432 with 1 Axes>"
      ]
     },
     "metadata": {
      "needs_background": "light"
     },
     "output_type": "display_data"
    }
   ],
   "source": [
    "## Checking for the number of value counts in target field\n",
    "valCount = application_train[\"condition\"].value_counts()\n",
    "print(valCount)\n",
    "df = pd.DataFrame({'target': valCount.index,\n",
    "                   'values': valCount.values\n",
    "                  })\n",
    "plt.figure(figsize = (6,6))\n",
    "plt.title('Stress count  - train dataset')\n",
    "sns.set_color_codes(\"pastel\")\n",
    "sns.barplot(x = 'target', y=\"values\", data=df)\n",
    "locs, labels = plt.xticks()\n",
    "plt.show()"
   ]
  },
  {
   "cell_type": "markdown",
   "metadata": {},
   "source": [
    "# Data PreProcessing"
   ]
  },
  {
   "cell_type": "code",
   "execution_count": 10,
   "metadata": {},
   "outputs": [],
   "source": [
    "# Diving data into feature and target set\n",
    "X = application_train.drop(['condition'], axis=1)\n",
    "y = application_train.condition\n",
    "feature_name = X.columns.tolist()"
   ]
  },
  {
   "cell_type": "markdown",
   "metadata": {},
   "source": [
    "## Data Normalization"
   ]
  },
  {
   "cell_type": "code",
   "execution_count": 11,
   "metadata": {},
   "outputs": [],
   "source": [
    "X_norm = MinMaxScaler().fit_transform(X)"
   ]
  },
  {
   "cell_type": "markdown",
   "metadata": {},
   "source": [
    "## Feature Selection "
   ]
  },
  {
   "cell_type": "code",
   "execution_count": 12,
   "metadata": {},
   "outputs": [
    {
     "data": {
      "text/plain": [
       "SelectKBest(k=25, score_func=<function chi2 at 0x7f85fe036430>)"
      ]
     },
     "execution_count": 12,
     "metadata": {},
     "output_type": "execute_result"
    }
   ],
   "source": [
    "#Chi-Square selct k-best for feature selection\n",
    "chi_selector = SelectKBest(chi2, k=25)\n",
    "chi_selector.fit(X_norm, y)"
   ]
  },
  {
   "cell_type": "code",
   "execution_count": 13,
   "metadata": {},
   "outputs": [
    {
     "name": "stdout",
     "output_type": "stream",
     "text": [
      "25 selected features\n"
     ]
    }
   ],
   "source": [
    "chi_support = chi_selector.get_support()\n",
    "chi_feature = X.loc[:,chi_support].columns.tolist()\n",
    "print(str(len(chi_feature)), 'selected features')"
   ]
  },
  {
   "cell_type": "code",
   "execution_count": 14,
   "metadata": {},
   "outputs": [
    {
     "name": "stdout",
     "output_type": "stream",
     "text": [
      "Chi-Square selected features:  ['MEAN_RR', 'MEDIAN_RR', 'SDRR', 'RMSSD', 'SDSD', 'HR', 'pNN25', 'pNN50', 'SD1', 'SD2', 'SDRR_REL_RR', 'RMSSD_REL_RR', 'SDSD_REL_RR', 'SDRR_RMSSD_REL_RR', 'VLF', 'VLF_PCT', 'LF', 'LF_PCT', 'HF', 'HF_PCT', 'HF_NU', 'TP', 'LF_HF', 'HF_LF', 'higuci']\n"
     ]
    }
   ],
   "source": [
    "print(\"Chi-Square selected features: \",chi_feature)"
   ]
  },
  {
   "cell_type": "code",
   "execution_count": 15,
   "metadata": {},
   "outputs": [],
   "source": [
    "#removing insignificant features\n",
    "X = X[chi_feature]\n",
    "feature_name = X.columns.tolist()"
   ]
  },
  {
   "cell_type": "markdown",
   "metadata": {},
   "source": [
    "## Train test dataset"
   ]
  },
  {
   "cell_type": "code",
   "execution_count": 16,
   "metadata": {},
   "outputs": [],
   "source": [
    "# Initializing train data \n",
    "X_train =X\n",
    "y_train=y\n",
    "# Initializing terst data \n",
    "X_test= application_test[chi_feature]\n",
    "y_test=application_test.condition"
   ]
  },
  {
   "cell_type": "markdown",
   "metadata": {},
   "source": [
    "## Label Encoding"
   ]
  },
  {
   "cell_type": "code",
   "execution_count": 17,
   "metadata": {},
   "outputs": [
    {
     "data": {
      "text/plain": [
       "LabelEncoder()"
      ]
     },
     "execution_count": 17,
     "metadata": {},
     "output_type": "execute_result"
    }
   ],
   "source": [
    "#Initializing Label Encoder\n",
    "le = LabelEncoder()\n",
    "#Fit label encoder\n",
    "le.fit(y_train)"
   ]
  },
  {
   "cell_type": "code",
   "execution_count": 18,
   "metadata": {},
   "outputs": [],
   "source": [
    "#Transforming labels to normalized encoding.\n",
    "y_train= le.transform(y_train)\n",
    "y_test= le.transform(y_test)"
   ]
  },
  {
   "cell_type": "code",
   "execution_count": 19,
   "metadata": {},
   "outputs": [
    {
     "data": {
      "text/plain": [
       "(array([1, 0, 0, ..., 1, 1, 1]), array([1, 2, 1, ..., 1, 1, 2]))"
      ]
     },
     "execution_count": 19,
     "metadata": {},
     "output_type": "execute_result"
    }
   ],
   "source": [
    "y_train,y_test"
   ]
  },
  {
   "cell_type": "markdown",
   "metadata": {},
   "source": [
    "# Neural Network"
   ]
  },
  {
   "cell_type": "code",
   "execution_count": 20,
   "metadata": {},
   "outputs": [
    {
     "data": {
      "text/plain": [
       "MLPClassifier(max_iter=30, random_state=1)"
      ]
     },
     "execution_count": 20,
     "metadata": {},
     "output_type": "execute_result"
    }
   ],
   "source": [
    "# Training Neural Network\n",
    "neuralNet = MLPClassifier(random_state=1, max_iter=30)\n",
    "neuralNet.fit(X_train, y_train)"
   ]
  },
  {
   "cell_type": "code",
   "execution_count": 21,
   "metadata": {},
   "outputs": [],
   "source": [
    "ypred= neuralNet.predict(X_test)"
   ]
  },
  {
   "cell_type": "code",
   "execution_count": 22,
   "metadata": {},
   "outputs": [
    {
     "data": {
      "text/plain": [
       "0.7842955669826724"
      ]
     },
     "execution_count": 22,
     "metadata": {},
     "output_type": "execute_result"
    }
   ],
   "source": [
    "neuralNet.score(X_test, y_test)"
   ]
  },
  {
   "cell_type": "code",
   "execution_count": 23,
   "metadata": {},
   "outputs": [
    {
     "data": {
      "text/plain": [
       "0.7842955669826724"
      ]
     },
     "execution_count": 23,
     "metadata": {},
     "output_type": "execute_result"
    }
   ],
   "source": [
    "acc=accuracy_score(y_test,ypred)\n",
    "acc"
   ]
  },
  {
   "cell_type": "code",
   "execution_count": 24,
   "metadata": {},
   "outputs": [
    {
     "data": {
      "text/plain": [
       "0.7842955669826724"
      ]
     },
     "execution_count": 24,
     "metadata": {},
     "output_type": "execute_result"
    }
   ],
   "source": [
    "f1=f1_score(ypred,y_test,average='micro')\n",
    "f1"
   ]
  },
  {
   "cell_type": "code",
   "execution_count": 25,
   "metadata": {},
   "outputs": [
    {
     "name": "stdout",
     "output_type": "stream",
     "text": [
      "Classification report \n",
      "                precision    recall  f1-score   support\n",
      "\n",
      "           0       0.80      0.76      0.78     11782\n",
      "           1       0.76      0.94      0.84     22158\n",
      "           2       0.94      0.34      0.49      7093\n",
      "\n",
      "    accuracy                           0.78     41033\n",
      "   macro avg       0.83      0.68      0.71     41033\n",
      "weighted avg       0.80      0.78      0.76     41033\n",
      "\n"
     ]
    }
   ],
   "source": [
    "print(\"Classification report \\n \", classification_report(y_test,ypred))\n"
   ]
  },
  {
   "cell_type": "code",
   "execution_count": 1,
   "metadata": {},
   "outputs": [
    {
     "ename": "NameError",
     "evalue": "name 'precision_score' is not defined",
     "output_type": "error",
     "traceback": [
      "\u001b[0;31m---------------------------------------------------------------------------\u001b[0m",
      "\u001b[0;31mNameError\u001b[0m                                 Traceback (most recent call last)",
      "\u001b[0;32m<ipython-input-1-7833e22f26ad>\u001b[0m in \u001b[0;36m<module>\u001b[0;34m\u001b[0m\n\u001b[0;32m----> 1\u001b[0;31m \u001b[0mps\u001b[0m\u001b[0;34m=\u001b[0m \u001b[0mprecision_score\u001b[0m\u001b[0;34m(\u001b[0m\u001b[0my_test\u001b[0m\u001b[0;34m,\u001b[0m \u001b[0mypred\u001b[0m\u001b[0;34m,\u001b[0m \u001b[0maverage\u001b[0m\u001b[0;34m=\u001b[0m\u001b[0;34m'weighted'\u001b[0m\u001b[0;34m)\u001b[0m\u001b[0;34m\u001b[0m\u001b[0;34m\u001b[0m\u001b[0m\n\u001b[0m\u001b[1;32m      2\u001b[0m \u001b[0mps\u001b[0m\u001b[0;34m\u001b[0m\u001b[0;34m\u001b[0m\u001b[0m\n",
      "\u001b[0;31mNameError\u001b[0m: name 'precision_score' is not defined"
     ]
    }
   ],
   "source": [
    "ps= precision_score(y_test, ypred, average='weighted')\n",
    "ps"
   ]
  },
  {
   "cell_type": "code",
   "execution_count": null,
   "metadata": {},
   "outputs": [],
   "source": []
  }
 ],
 "metadata": {
  "kernelspec": {
   "display_name": "Python 3",
   "language": "python",
   "name": "python3"
  },
  "language_info": {
   "codemirror_mode": {
    "name": "ipython",
    "version": 3
   },
   "file_extension": ".py",
   "mimetype": "text/x-python",
   "name": "python",
   "nbconvert_exporter": "python",
   "pygments_lexer": "ipython3",
   "version": "3.8.3"
  }
 },
 "nbformat": 4,
 "nbformat_minor": 4
}
